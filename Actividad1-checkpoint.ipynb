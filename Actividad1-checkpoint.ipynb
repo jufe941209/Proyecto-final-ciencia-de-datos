{
 "cells": [
  {
   "cell_type": "code",
   "execution_count": 58,
   "metadata": {},
   "outputs": [
    {
     "name": "stdout",
     "output_type": "stream",
     "text": [
      "                                       Indicador Periocidad  \\\n",
      "0    Disparidad salarial entre hombres y mujeres      anual   \n",
      "1    Disparidad salarial entre hombres y mujeres      anual   \n",
      "2    Disparidad salarial entre hombres y mujeres      anual   \n",
      "3    Disparidad salarial entre hombres y mujeres      anual   \n",
      "4    Disparidad salarial entre hombres y mujeres      anual   \n",
      "..                                           ...        ...   \n",
      "320  Disparidad salarial entre hombres y mujeres      anual   \n",
      "321  Disparidad salarial entre hombres y mujeres      anual   \n",
      "322  Disparidad salarial entre hombres y mujeres      anual   \n",
      "323  Disparidad salarial entre hombres y mujeres      anual   \n",
      "324  Disparidad salarial entre hombres y mujeres      anual   \n",
      "\n",
      "    Desagregación geográfica Dominio geográfico   año  valor salarial  \n",
      "0              Departamental          Antioquia  2008          117391  \n",
      "1              Departamental          Antioquia  2009          134689  \n",
      "2              Departamental          Antioquia  2010          193509  \n",
      "3              Departamental          Antioquia  2011          182677  \n",
      "4              Departamental          Antioquia  2012          186214  \n",
      "..                       ...                ...   ...             ...  \n",
      "320            Departamental    Valle del Cauca  2016          276802  \n",
      "321            Departamental    Valle del Cauca  2017          292699  \n",
      "322            Departamental    Valle del Cauca  2018          280295  \n",
      "323            Departamental    Valle del Cauca  2019          293150  \n",
      "324            Departamental    Valle del Cauca  2020          252855  \n",
      "\n",
      "[325 rows x 6 columns]\n",
      "                                             Indicador Periodicidad  \\\n",
      "0    Disparidad de horas trabajadas en la semana en...        anual   \n",
      "1    Disparidad de horas trabajadas en la semana en...        anual   \n",
      "2    Disparidad de horas trabajadas en la semana en...        anual   \n",
      "3    Disparidad de horas trabajadas en la semana en...        anual   \n",
      "4    Disparidad de horas trabajadas en la semana en...        anual   \n",
      "..                                                 ...          ...   \n",
      "320  Disparidad de horas trabajadas en la semana en...        anual   \n",
      "321  Disparidad de horas trabajadas en la semana en...        anual   \n",
      "322  Disparidad de horas trabajadas en la semana en...        anual   \n",
      "323  Disparidad de horas trabajadas en la semana en...        anual   \n",
      "324  Disparidad de horas trabajadas en la semana en...        anual   \n",
      "\n",
      "    Desagregación geográfica Dominio geográfico   año  valor horas  \n",
      "0              Departamental          Antioquia  2020          5.3  \n",
      "1              Departamental          Antioquia  2019          6.2  \n",
      "2              Departamental          Antioquia  2018          7.5  \n",
      "3              Departamental          Antioquia  2017          7.5  \n",
      "4              Departamental          Antioquia  2016          6.7  \n",
      "..                       ...                ...   ...          ...  \n",
      "320            Departamental    Valle del Cauca  2012          9.7  \n",
      "321            Departamental    Valle del Cauca  2011         10.5  \n",
      "322            Departamental    Valle del Cauca  2010         11.2  \n",
      "323            Departamental    Valle del Cauca  2009          9.4  \n",
      "324            Departamental    Valle del Cauca  2008         10.0  \n",
      "\n",
      "[325 rows x 6 columns]\n"
     ]
    }
   ],
   "source": [
    "import pandas as pd\n",
    "# Leer los datos desde los archivos\n",
    "datos1 = pd.read_csv('data/Disparidad-Salarial-Hombres-Mujeres.csv')\n",
    "datos2 = pd.read_csv('data/Disparidad_de_Horas_Trabajadas_Hombres_y_Mujeres.csv') \n",
    "\n",
    "print (datos1)\n",
    "print (datos2)\n",
    "\n",
    "#Se realiza la especificacion de los valores a tener en cuenta en los dos dataframes, eliminando la columna de periodicidad ya que en \n",
    "#en ambos dataframes y en todos los datos se maneja una periodicidad anual.\n",
    "\n",
    "values1= datos1[[\"Indicador\",\"Desagregación geográfica\",\"Dominio geográfico\",\"año\",\"valor salarial\"]]\n",
    "values2= datos2[[\"Indicador\",\"Desagregación geográfica\",\"Dominio geográfico\",\"año\",\"valor horas\"]]\n",
    "\n",
    "#se realiza la union de los valores dentro de las dos bases de datos\n",
    "\n",
    "dataframes =[values1,values2]"
   ]
  },
  {
   "cell_type": "code",
   "execution_count": 59,
   "metadata": {},
   "outputs": [
    {
     "name": "stdout",
     "output_type": "stream",
     "text": [
      "                                             Indicador  \\\n",
      "0          Disparidad salarial entre hombres y mujeres   \n",
      "1          Disparidad salarial entre hombres y mujeres   \n",
      "2          Disparidad salarial entre hombres y mujeres   \n",
      "3          Disparidad salarial entre hombres y mujeres   \n",
      "4          Disparidad salarial entre hombres y mujeres   \n",
      "..                                                 ...   \n",
      "320  Disparidad de horas trabajadas en la semana en...   \n",
      "321  Disparidad de horas trabajadas en la semana en...   \n",
      "322  Disparidad de horas trabajadas en la semana en...   \n",
      "323  Disparidad de horas trabajadas en la semana en...   \n",
      "324  Disparidad de horas trabajadas en la semana en...   \n",
      "\n",
      "    Desagregación geográfica Dominio geográfico   año  valor salarial  \\\n",
      "0              Departamental          Antioquia  2008        117391.0   \n",
      "1              Departamental          Antioquia  2009        134689.0   \n",
      "2              Departamental          Antioquia  2010        193509.0   \n",
      "3              Departamental          Antioquia  2011        182677.0   \n",
      "4              Departamental          Antioquia  2012        186214.0   \n",
      "..                       ...                ...   ...             ...   \n",
      "320            Departamental    Valle del Cauca  2012             NaN   \n",
      "321            Departamental    Valle del Cauca  2011             NaN   \n",
      "322            Departamental    Valle del Cauca  2010             NaN   \n",
      "323            Departamental    Valle del Cauca  2009             NaN   \n",
      "324            Departamental    Valle del Cauca  2008             NaN   \n",
      "\n",
      "     valor horas  \n",
      "0            NaN  \n",
      "1            NaN  \n",
      "2            NaN  \n",
      "3            NaN  \n",
      "4            NaN  \n",
      "..           ...  \n",
      "320          9.7  \n",
      "321         10.5  \n",
      "322         11.2  \n",
      "323          9.4  \n",
      "324         10.0  \n",
      "\n",
      "[650 rows x 6 columns]\n"
     ]
    }
   ],
   "source": [
    "# Realizar la concatenacion de datos basada en las columnas especificadas en dataframes\n",
    "datos_combinados = pd.concat(dataframes)\n",
    "# Imprimir las primeras filas del resultado combinado\n",
    "print(datos_combinados)\n"
   ]
  },
  {
   "cell_type": "code",
   "execution_count": 62,
   "metadata": {},
   "outputs": [],
   "source": [
    "datos_combinados.to_csv('datos_combinados.csv', sep=',', index=False)"
   ]
  },
  {
   "cell_type": "code",
   "execution_count": 71,
   "metadata": {},
   "outputs": [
    {
     "name": "stdout",
     "output_type": "stream",
     "text": [
      "El promedio de la columna 'valor horas' es: 8.774461538461539\n",
      "El promedio de la columna 'valor salarial' es: 162490.11692307692\n",
      "\n",
      " El valor total de difenecia salarial entre hombres y mujeres es de :52809288 \n",
      "\n",
      " El valor total de difenecia en horas entre hombres y mujeres es de :2851.7 \n"
     ]
    }
   ],
   "source": [
    "import pandas as pd\n",
    "\n",
    "# Cargar los datos desde el archivo CSV\n",
    "datosDisparidad = pd.read_csv('datos_combinados.csv')\n",
    "\n",
    "# Calcular el promedio de la columna \"valor horas\"\n",
    "promedio_valor_horas = datosDisparidad['valor horas'].mean()\n",
    "\n",
    "print(\"El promedio de la columna 'valor horas' es:\", promedio_valor_horas)\n",
    "\n",
    "# Calcular el promedio de la columna \"valor salarial\"\n",
    "promedio_valor_salario = datosDisparidad['valor salarial'].mean()\n",
    "\n",
    "print(\"El promedio de la columna 'valor salarial' es:\", promedio_valor_salario)\n",
    "\n",
    "totalSalarial = datos1 ['valor salarial'].sum()\n",
    "print(f\"\\n El valor total de difenecia salarial entre hombres y mujeres es de :{totalSalarial} \")\n",
    "\n",
    "totalHoras = datos2['valor horas'].sum()\n",
    "print(f\"\\n El valor total de difenecia en horas entre hombres y mujeres es de :{totalHoras} \")\n"
   ]
  },
  {
   "cell_type": "code",
   "execution_count": 81,
   "metadata": {},
   "outputs": [
    {
     "name": "stdout",
     "output_type": "stream",
     "text": [
      "\n",
      "Diferencia por horas entre hombres y mujeres por año\n",
      "     año  totalHoras\n",
      "0   2008       198.3\n",
      "1   2009       210.9\n",
      "2   2010       210.3\n",
      "3   2011       222.7\n",
      "4   2012       233.6\n",
      "5   2013       238.5\n",
      "6   2014       223.0\n",
      "7   2015       230.2\n",
      "8   2016       229.2\n",
      "9   2017       223.5\n",
      "10  2018       218.5\n",
      "11  2019       220.1\n",
      "12  2020       192.9\n",
      "\n",
      "Diferencia por salario entre hombres y mujeres por año\n",
      "     año  totalSalarial\n",
      "0   2008        2866310\n",
      "1   2009        3156697\n",
      "2   2010        3698659\n",
      "3   2011        3925047\n",
      "4   2012        4465734\n",
      "5   2013        4336874\n",
      "6   2014        4561896\n",
      "7   2015        4759166\n",
      "8   2016        4864229\n",
      "9   2017        4895288\n",
      "10  2018        4504837\n",
      "11  2019        4320255\n",
      "12  2020        2454296\n",
      "\n",
      "Diferencia por horas entre hombres y mujeres por departamento\n",
      "    Dominio geográfico  totalHoras\n",
      "0            Antioquia       100.3\n",
      "1            Atlántico       134.5\n",
      "2               Bogotá        90.6\n",
      "3              Bolívar       116.7\n",
      "4               Boyacá       111.6\n",
      "5               Caldas       119.3\n",
      "6              Caquetá       101.7\n",
      "7                Cauca        59.5\n",
      "8                Cesar       126.6\n",
      "9                Chocó        65.5\n",
      "10            Colombia       109.1\n",
      "11        Cundinamarca       113.2\n",
      "12             Córdoba       125.2\n",
      "13               Huila       100.7\n",
      "14          La Guajira       131.0\n",
      "15           Magdalena       164.0\n",
      "16                Meta       104.5\n",
      "17              Nariño       103.0\n",
      "18  Norte de Santander       122.7\n",
      "19             Quindío       129.8\n",
      "20           Risaralda       110.1\n",
      "21           Santander       117.3\n",
      "22               Sucre       142.3\n",
      "23              Tolima       126.1\n",
      "24     Valle del Cauca       126.4\n",
      "\n",
      "Diferencia por salario entre hombres y mujeres por departamento\n",
      "    Dominio geográfico  totalSalarial\n",
      "0            Antioquia        2121670\n",
      "1            Atlántico        2731574\n",
      "2               Bogotá        4324600\n",
      "3              Bolívar        1835218\n",
      "4               Boyacá        2139463\n",
      "5               Caldas        1113118\n",
      "6              Caquetá        1446833\n",
      "7                Cauca         490439\n",
      "8                Cesar        2170696\n",
      "9                Chocó         -60176\n",
      "10            Colombia        2284061\n",
      "11        Cundinamarca        2941371\n",
      "12             Córdoba        1741085\n",
      "13               Huila        1293807\n",
      "14          La Guajira        2026252\n",
      "15           Magdalena        1879278\n",
      "16                Meta        3520449\n",
      "17              Nariño        1432934\n",
      "18  Norte de Santander        1496957\n",
      "19             Quindío        2619814\n",
      "20           Risaralda        2342997\n",
      "21           Santander        3403058\n",
      "22               Sucre        1635064\n",
      "23              Tolima        2349402\n",
      "24     Valle del Cauca        3529324\n"
     ]
    }
   ],
   "source": [
    "#Con el fin de generar gráficos que permitan analizar la información se decide\n",
    "#generar una tabla resumen por variable que queremos graficar usando la\n",
    "#función GROUPBY así:\n",
    "\n",
    "resumenHoras = datos2.groupby(['año'])['valor horas'].sum().reset_index(name='totalHoras')\n",
    "print(f\"\\nDiferencia por horas entre hombres y mujeres por año\\n{resumenHoras}\")  \n",
    "\n",
    "resumenSalarial = datos1.groupby(['año'])['valor salarial'].sum().reset_index(name='totalSalarial')\n",
    "print(f\"\\nDiferencia por salario entre hombres y mujeres por año\\n{resumenSalarial}\")\n",
    "\n",
    "resumenHorasDep = datos2.groupby(['Dominio geográfico'])['valor horas'].sum().reset_index(name='totalHoras')\n",
    "print(f\"\\nDiferencia por horas entre hombres y mujeres por departamento\\n{resumenHorasDep}\")  \n",
    "\n",
    "resumenSalarialDep = datos1.groupby(['Dominio geográfico'])['valor salarial'].sum().reset_index(name='totalSalarial')\n",
    "print(f\"\\nDiferencia por salario entre hombres y mujeres por departamento\\n{resumenSalarialDep}\")\n"
   ]
  },
  {
   "cell_type": "code",
   "execution_count": null,
   "metadata": {},
   "outputs": [],
   "source": []
  },
  {
   "cell_type": "code",
   "execution_count": 87,
   "metadata": {},
   "outputs": [
    {
     "data": {
      "image/png": "[encoded data removed]",
      "text/plain": [
       "<Figure size 640x480 with 1 Axes>"
      ]
     },
     "metadata": {},
     "output_type": "display_data"
    },
    {
     "data": {
      "image/png": "[encoded data removed]",
      "text/plain": [
       "<Figure size 640x480 with 1 Axes>"
      ]
     },
     "metadata": {},
     "output_type": "display_data"
    },
    {
     "data": {
      "image/png": "[encoded data removed]",
      "text/plain": [
       "<Figure size 640x480 with 1 Axes>"
      ]
     },
     "metadata": {},
     "output_type": "display_data"
    },
    {
     "data": {
      "image/png": "[encoded data removed]",
      "text/plain": [
       "<Figure size 640x480 with 1 Axes>"
      ]
     },
     "metadata": {},
     "output_type": "display_data"
    }
   ],
   "source": [
    "import pandas as pd\n",
    "import matplotlib.pyplot as plt\n",
    "\n",
    "\n",
    "# Gráfico de diferencia por horas entre hombres y mujeres por año\n",
    "resumenHoras.plot(x='año', y='totalHoras', title='Diferencia por horas entre hombres y mujeres por año')\n",
    "plt.xlabel('Año')\n",
    "plt.ylabel('Total de horas')\n",
    "plt.show()\n",
    "\n",
    "# Gráfico de diferencia por salario entre hombres y mujeres por año\n",
    "resumenSalarial.plot(x='año', y='totalSalarial', title='Diferencia por salario entre hombres y mujeres por año')\n",
    "plt.xlabel('Año')\n",
    "plt.ylabel('Total salarial')\n",
    "plt.show()\n",
    "\n",
    "# Gráfico de diferencia por horas entre hombres y mujeres por departamento\n",
    "resumenHorasDep.plot(x='Dominio geográfico', y='totalHoras', title='Diferencia por horas entre hombres y mujeres por departamento')\n",
    "plt.xlabel('Departamento')\n",
    "plt.ylabel('Total de horas')\n",
    "plt.show()\n",
    "\n",
    "# Gráfico de diferencia por salario entre hombres y mujeres por departamento\n",
    "resumenSalarialDep.plot(x='Dominio geográfico', y='totalSalarial', title='Diferencia por salario entre hombres y mujeres por departamento')\n",
    "plt.xlabel('Departamento')\n",
    "plt.ylabel('Total salarial')\n",
    "plt.show()\n"
   ]
  },
  {
   "cell_type": "code",
   "execution_count": 86,
   "metadata": {},
   "outputs": [
    {
     "data": {
      "image/png": "[encoded data removed]",
      "text/plain": [
       "<Figure size 640x480 with 1 Axes>"
      ]
     },
     "metadata": {},
     "output_type": "display_data"
    },
    {
     "data": {
      "image/png": "[encoded data removed]",
      "text/plain": [
       "<Figure size 640x480 with 1 Axes>"
      ]
     },
     "metadata": {},
     "output_type": "display_data"
    },
    {
     "data": {
      "image/png": "[encoded data removed]",
      "text/plain": [
       "<Figure size 640x480 with 1 Axes>"
      ]
     },
     "metadata": {},
     "output_type": "display_data"
    },
    {
     "data": {
      "image/png": "[encoded data removed]",
      "text/plain": [
       "<Figure size 640x480 with 1 Axes>"
      ]
     },
     "metadata": {},
     "output_type": "display_data"
    }
   ],
   "source": [
    "import pandas as pd\n",
    "import seaborn as sns\n",
    "from matplotlib import pyplot as plt\n",
    "\n",
    "# Gráfico de horas por año\n",
    "sns.barplot(x=\"año\", y=\"totalHoras\", data=resumenHoras)\n",
    "plt.title(\"Total de Horas por Año\")\n",
    "plt.xlabel(\"Año\")\n",
    "plt.ylabel(\"Total de Horas\")\n",
    "plt.show()\n",
    "\n",
    "# Gráfico de salario por año\n",
    "sns.barplot(x=\"año\", y=\"totalSalarial\", data=resumenSalarial)\n",
    "plt.title(\"Total de Salario por Año\")\n",
    "plt.xlabel(\"Año\")\n",
    "plt.ylabel(\"Total de Salario\")\n",
    "plt.show()\n",
    "\n",
    "# Gráfico de horas por departamento\n",
    "sns.barplot(x=\"Dominio geográfico\", y=\"totalHoras\", data=resumenHorasDep)\n",
    "plt.title(\"Total de Horas por Departamento\")\n",
    "plt.xlabel(\"Dominio Geográfico\")\n",
    "plt.ylabel(\"Total de Horas\")\n",
    "plt.xticks(rotation=45)  # Rota las etiquetas del eje X para mejor legibilidad\n",
    "plt.show()\n",
    "\n",
    "# Gráfico de salario por departamento\n",
    "sns.barplot(x=\"Dominio geográfico\", y=\"totalSalarial\", data=resumenSalarialDep)\n",
    "plt.title(\"Total de Salario por Departamento\")\n",
    "plt.xlabel(\"Dominio Geográfico\")\n",
    "plt.ylabel(\"Total de Salario\")\n",
    "plt.xticks(rotation=45)  # Rota las etiquetas del eje X para mejor legibilidad\n",
    "plt.show()\n",
    "\n"
   ]
  },
  {
   "cell_type": "code",
   "execution_count": 91,
   "metadata": {},
   "outputs": [
    {
     "data": {
      "application/vnd.plotly.v1+json": {
       "config": {
        "plotlyServerURL": "https://plot.ly"
       },
       "data": [
        {
         "hovertemplate": "año=%{x}<br>totalHoras=%{y}<extra></extra>",
         "legendgroup": "",
         "line": {
          "color": "#636efa",
          "dash": "solid"
         },
         "marker": {
          "symbol": "circle"
         },
         "mode": "lines",
         "name": "",
         "orientation": "v",
         "showlegend": false,
         "type": "scatter",
         "x": [
          2008,
          2009,
          2010,
          2011,
          2012,
          2013,
          2014,
          2015,
          2016,
          2017,
          2018,
          2019,
          2020
         ],
         "xaxis": "x",
         "y": [
          198.3,
          210.9,
          210.3,
          222.70000000000002,
          233.6,
          238.5,
          223,
          230.20000000000002,
          229.2,
          223.5,
          218.5,
          220.1,
          192.9
         ],
         "yaxis": "y"
        }
       ],
       "layout": {
        "legend": {
         "tracegroupgap": 0
        },
        "template": {
         "data": {
          "bar": [
           {
            "error_x": {
             "color": "#2a3f5f"
            },
            "error_y": {
             "color": "#2a3f5f"
            },
            "marker": {
             "line": {
              "color": "#E5ECF6",
              "width": 0.5
             },
             "pattern": {
              "fillmode": "overlay",
              "size": 10,
              "solidity": 0.2
             }
            },
            "type": "bar"
           }
          ],
          "barpolar": [
           {
            "marker": {
             "line": {
              "color": "#E5ECF6",
              "width": 0.5
             },
             "pattern": {
              "fillmode": "overlay",
              "size": 10,
              "solidity": 0.2
             }
            },
            "type": "barpolar"
           }
          ],
          "carpet": [
           {
            "aaxis": {
             "endlinecolor": "#2a3f5f",
             "gridcolor": "white",
             "linecolor": "white",
             "minorgridcolor": "white",
             "startlinecolor": "#2a3f5f"
            },
            "baxis": {
             "endlinecolor": "#2a3f5f",
             "gridcolor": "white",
             "linecolor": "white",
             "minorgridcolor": "white",
             "startlinecolor": "#2a3f5f"
            },
            "type": "carpet"
           }
          ],
          "choropleth": [
           {
            "colorbar": {
             "outlinewidth": 0,
             "ticks": ""
            },
            "type": "choropleth"
           }
          ],
          "contour": [
           {
            "colorbar": {
             "outlinewidth": 0,
             "ticks": ""
            },
            "colorscale": [
             [
              0,
              "#0d0887"
             ],
             [
              0.1111111111111111,
              "#46039f"
             ],
             [
              0.2222222222222222,
              "#7201a8"
             ],
             [
              0.3333333333333333,
              "#9c179e"
             ],
             [
              0.4444444444444444,
              "#bd3786"
             ],
             [
              0.5555555555555556,
              "#d8576b"
             ],
             [
              0.6666666666666666,
              "#ed7953"
             ],
             [
              0.7777777777777778,
              "#fb9f3a"
             ],
             [
              0.8888888888888888,
              "#fdca26"
             ],
             [
              1,
              "#f0f921"
             ]
            ],
            "type": "contour"
           }
          ],
          "contourcarpet": [
           {
            "colorbar": {
             "outlinewidth": 0,
             "ticks": ""
            },
            "type": "contourcarpet"
           }
          ],
          "heatmap": [
           {
            "colorbar": {
             "outlinewidth": 0,
             "ticks": ""
            },
            "colorscale": [
             [
              0,
              "#0d0887"
             ],
             [
              0.1111111111111111,
              "#46039f"
             ],
             [
              0.2222222222222222,
              "#7201a8"
             ],
             [
              0.3333333333333333,
              "#9c179e"
             ],
             [
              0.4444444444444444,
              "#bd3786"
             ],
             [
              0.5555555555555556,
              "#d8576b"
             ],
             [
              0.6666666666666666,
              "#ed7953"
             ],
             [
              0.7777777777777778,
              "#fb9f3a"
             ],
             [
              0.8888888888888888,
              "#fdca26"
             ],
             [
              1,
              "#f0f921"
             ]
            ],
            "type": "heatmap"
           }
          ],
          "heatmapgl": [
           {
            "colorbar": {
             "outlinewidth": 0,
             "ticks": ""
            },
            "colorscale": [
             [
              0,
              "#0d0887"
             ],
             [
              0.1111111111111111,
              "#46039f"
             ],
             [
              0.2222222222222222,
              "#7201a8"
             ],
             [
              0.3333333333333333,
              "#9c179e"
             ],
             [
              0.4444444444444444,
              "#bd3786"
             ],
             [
              0.5555555555555556,
              "#d8576b"
             ],
             [
              0.6666666666666666,
              "#ed7953"
             ],
             [
              0.7777777777777778,
              "#fb9f3a"
             ],
             [
              0.8888888888888888,
              "#fdca26"
             ],
             [
              1,
              "#f0f921"
             ]
            ],
            "type": "heatmapgl"
           }
          ],
          "histogram": [
           {
            "marker": {
             "pattern": {
              "fillmode": "overlay",
              "size": 10,
              "solidity": 0.2
             }
            },
            "type": "histogram"
           }
          ],
          "histogram2d": [
           {
            "colorbar": {
             "outlinewidth": 0,
             "ticks": ""
            },
            "colorscale": [
             [
              0,
              "#0d0887"
             ],
             [
              0.1111111111111111,
              "#46039f"
             ],
             [
              0.2222222222222222,
              "#7201a8"
             ],
             [
              0.3333333333333333,
              "#9c179e"
             ],
             [
              0.4444444444444444,
              "#bd3786"
             ],
             [
              0.5555555555555556,
              "#d8576b"
             ],
             [
              0.6666666666666666,
              "#ed7953"
             ],
             [
              0.7777777777777778,
              "#fb9f3a"
             ],
             [
              0.8888888888888888,
              "#fdca26"
             ],
             [
              1,
              "#f0f921"
             ]
            ],
            "type": "histogram2d"
           }
          ],
          "histogram2dcontour": [
           {
            "colorbar": {
             "outlinewidth": 0,
             "ticks": ""
            },
            "colorscale": [
             [
              0,
              "#0d0887"
             ],
             [
              0.1111111111111111,
              "#46039f"
             ],
             [
              0.2222222222222222,
              "#7201a8"
             ],
             [
              0.3333333333333333,
              "#9c179e"
             ],
             [
              0.4444444444444444,
              "#bd3786"
             ],
             [
              0.5555555555555556,
              "#d8576b"
             ],
             [
              0.6666666666666666,
              "#ed7953"
             ],
             [
              0.7777777777777778,
              "#fb9f3a"
             ],
             [
              0.8888888888888888,
              "#fdca26"
             ],
             [
              1,
              "#f0f921"
             ]
            ],
            "type": "histogram2dcontour"
           }
          ],
          "mesh3d": [
           {
            "colorbar": {
             "outlinewidth": 0,
             "ticks": ""
            },
            "type": "mesh3d"
           }
          ],
          "parcoords": [
           {
            "line": {
             "colorbar": {
              "outlinewidth": 0,
              "ticks": ""
             }
            },
            "type": "parcoords"
           }
          ],
          "pie": [
           {
            "automargin": true,
            "type": "pie"
           }
          ],
          "scatter": [
           {
            "fillpattern": {
             "fillmode": "overlay",
             "size": 10,
             "solidity": 0.2
            },
            "type": "scatter"
           }
          ],
          "scatter3d": [
           {
            "line": {
             "colorbar": {
              "outlinewidth": 0,
              "ticks": ""
             }
            },
            "marker": {
             "colorbar": {
              "outlinewidth": 0,
              "ticks": ""
             }
            },
            "type": "scatter3d"
           }
          ],
          "scattercarpet": [
           {
            "marker": {
             "colorbar": {
              "outlinewidth": 0,
              "ticks": ""
             }
            },
            "type": "scattercarpet"
           }
          ],
          "scattergeo": [
           {
            "marker": {
             "colorbar": {
              "outlinewidth": 0,
              "ticks": ""
             }
            },
            "type": "scattergeo"
           }
          ],
          "scattergl": [
           {
            "marker": {
             "colorbar": {
              "outlinewidth": 0,
              "ticks": ""
             }
            },
            "type": "scattergl"
           }
          ],
          "scattermapbox": [
           {
            "marker": {
             "colorbar": {
              "outlinewidth": 0,
              "ticks": ""
             }
            },
            "type": "scattermapbox"
           }
          ],
          "scatterpolar": [
           {
            "marker": {
             "colorbar": {
              "outlinewidth": 0,
              "ticks": ""
             }
            },
            "type": "scatterpolar"
           }
          ],
          "scatterpolargl": [
           {
            "marker": {
             "colorbar": {
              "outlinewidth": 0,
              "ticks": ""
             }
            },
            "type": "scatterpolargl"
           }
          ],
          "scatterternary": [
           {
            "marker": {
             "colorbar": {
              "outlinewidth": 0,
              "ticks": ""
             }
            },
            "type": "scatterternary"
           }
          ],
          "surface": [
           {
            "colorbar": {
             "outlinewidth": 0,
             "ticks": ""
            },
            "colorscale": [
             [
              0,
              "#0d0887"
             ],
             [
              0.1111111111111111,
              "#46039f"
             ],
             [
              0.2222222222222222,
              "#7201a8"
             ],
             [
              0.3333333333333333,
              "#9c179e"
             ],
             [
              0.4444444444444444,
              "#bd3786"
             ],
             [
              0.5555555555555556,
              "#d8576b"
             ],
             [
              0.6666666666666666,
              "#ed7953"
             ],
             [
              0.7777777777777778,
              "#fb9f3a"
             ],
             [
              0.8888888888888888,
              "#fdca26"
             ],
             [
              1,
              "#f0f921"
             ]
            ],
            "type": "surface"
           }
          ],
          "table": [
           {
            "cells": {
             "fill": {
              "color": "#EBF0F8"
             },
             "line": {
              "color": "white"
             }
            },
            "header": {
             "fill": {
              "color": "#C8D4E3"
             },
             "line": {
              "color": "white"
             }
            },
            "type": "table"
           }
          ]
         },
         "layout": {
          "annotationdefaults": {
           "arrowcolor": "#2a3f5f",
           "arrowhead": 0,
           "arrowwidth": 1
          },
          "autotypenumbers": "strict",
          "coloraxis": {
           "colorbar": {
            "outlinewidth": 0,
            "ticks": ""
           }
          },
          "colorscale": {
           "diverging": [
            [
             0,
             "#8e0152"
            ],
            [
             0.1,
             "#c51b7d"
            ],
            [
             0.2,
             "#de77ae"
            ],
            [
             0.3,
             "#f1b6da"
            ],
            [
             0.4,
             "#fde0ef"
            ],
            [
             0.5,
             "#f7f7f7"
            ],
            [
             0.6,
             "#e6f5d0"
            ],
            [
             0.7,
             "#b8e186"
            ],
            [
             0.8,
             "#7fbc41"
            ],
            [
             0.9,
             "#4d9221"
            ],
            [
             1,
             "#276419"
            ]
           ],
           "sequential": [
            [
             0,
             "#0d0887"
            ],
            [
             0.1111111111111111,
             "#46039f"
            ],
            [
             0.2222222222222222,
             "#7201a8"
            ],
            [
             0.3333333333333333,
             "#9c179e"
            ],
            [
             0.4444444444444444,
             "#bd3786"
            ],
            [
             0.5555555555555556,
             "#d8576b"
            ],
            [
             0.6666666666666666,
             "#ed7953"
            ],
            [
             0.7777777777777778,
             "#fb9f3a"
            ],
            [
             0.8888888888888888,
             "#fdca26"
            ],
            [
             1,
             "#f0f921"
            ]
           ],
           "sequentialminus": [
            [
             0,
             "#0d0887"
            ],
            [
             0.1111111111111111,
             "#46039f"
            ],
            [
             0.2222222222222222,
             "#7201a8"
            ],
            [
             0.3333333333333333,
             "#9c179e"
            ],
            [
             0.4444444444444444,
             "#bd3786"
            ],
            [
             0.5555555555555556,
             "#d8576b"
            ],
            [
             0.6666666666666666,
             "#ed7953"
            ],
            [
             0.7777777777777778,
             "#fb9f3a"
            ],
            [
             0.8888888888888888,
             "#fdca26"
            ],
            [
             1,
             "#f0f921"
            ]
           ]
          },
          "colorway": [
           "#636efa",
           "#EF553B",
           "#00cc96",
           "#ab63fa",
           "#FFA15A",
           "#19d3f3",
           "#FF6692",
           "#B6E880",
           "#FF97FF",
           "#FECB52"
          ],
          "font": {
           "color": "#2a3f5f"
          },
          "geo": {
           "bgcolor": "white",
           "lakecolor": "white",
           "landcolor": "#E5ECF6",
           "showlakes": true,
           "showland": true,
           "subunitcolor": "white"
          },
          "hoverlabel": {
           "align": "left"
          },
          "hovermode": "closest",
          "mapbox": {
           "style": "light"
          },
          "paper_bgcolor": "white",
          "plot_bgcolor": "#E5ECF6",
          "polar": {
           "angularaxis": {
            "gridcolor": "white",
            "linecolor": "white",
            "ticks": ""
           },
           "bgcolor": "#E5ECF6",
           "radialaxis": {
            "gridcolor": "white",
            "linecolor": "white",
            "ticks": ""
           }
          },
          "scene": {
           "xaxis": {
            "backgroundcolor": "#E5ECF6",
            "gridcolor": "white",
            "gridwidth": 2,
            "linecolor": "white",
            "showbackground": true,
            "ticks": "",
            "zerolinecolor": "white"
           },
           "yaxis": {
            "backgroundcolor": "#E5ECF6",
            "gridcolor": "white",
            "gridwidth": 2,
            "linecolor": "white",
            "showbackground": true,
            "ticks": "",
            "zerolinecolor": "white"
           },
           "zaxis": {
            "backgroundcolor": "#E5ECF6",
            "gridcolor": "white",
            "gridwidth": 2,
            "linecolor": "white",
            "showbackground": true,
            "ticks": "",
            "zerolinecolor": "white"
           }
          },
          "shapedefaults": {
           "line": {
            "color": "#2a3f5f"
           }
          },
          "ternary": {
           "aaxis": {
            "gridcolor": "white",
            "linecolor": "white",
            "ticks": ""
           },
           "baxis": {
            "gridcolor": "white",
            "linecolor": "white",
            "ticks": ""
           },
           "bgcolor": "#E5ECF6",
           "caxis": {
            "gridcolor": "white",
            "linecolor": "white",
            "ticks": ""
           }
          },
          "title": {
           "x": 0.05
          },
          "xaxis": {
           "automargin": true,
           "gridcolor": "white",
           "linecolor": "white",
           "ticks": "",
           "title": {
            "standoff": 15
           },
           "zerolinecolor": "white",
           "zerolinewidth": 2
          },
          "yaxis": {
           "automargin": true,
           "gridcolor": "white",
           "linecolor": "white",
           "ticks": "",
           "title": {
            "standoff": 15
           },
           "zerolinecolor": "white",
           "zerolinewidth": 2
          }
         }
        },
        "title": {
         "text": "Total de diferencia de Horas por Año H VS M"
        },
        "xaxis": {
         "anchor": "y",
         "domain": [
          0,
          1
         ],
         "title": {
          "text": "año"
         }
        },
        "yaxis": {
         "anchor": "x",
         "domain": [
          0,
          1
         ],
         "title": {
          "text": "totalHoras"
         }
        }
       }
      }
     },
     "metadata": {},
     "output_type": "display_data"
    },
    {
     "data": {
      "application/vnd.plotly.v1+json": {
       "config": {
        "plotlyServerURL": "https://plot.ly"
       },
       "data": [
        {
         "hovertemplate": "año=%{x}<br>totalSalarial=%{y}<extra></extra>",
         "legendgroup": "",
         "line": {
          "color": "#636efa",
          "dash": "solid"
         },
         "marker": {
          "symbol": "circle"
         },
         "mode": "lines",
         "name": "",
         "orientation": "v",
         "showlegend": false,
         "type": "scatter",
         "x": [
          2008,
          2009,
          2010,
          2011,
          2012,
          2013,
          2014,
          2015,
          2016,
          2017,
          2018,
          2019,
          2020
         ],
         "xaxis": "x",
         "y": [
          2866310,
          3156697,
          3698659,
          3925047,
          4465734,
          4336874,
          4561896,
          4759166,
          4864229,
          4895288,
          4504837,
          4320255,
          2454296
         ],
         "yaxis": "y"
        }
       ],
       "layout": {
        "legend": {
         "tracegroupgap": 0
        },
        "template": {
         "data": {
          "bar": [
           {
            "error_x": {
             "color": "#2a3f5f"
            },
            "error_y": {
             "color": "#2a3f5f"
            },
            "marker": {
             "line": {
              "color": "#E5ECF6",
              "width": 0.5
             },
             "pattern": {
              "fillmode": "overlay",
              "size": 10,
              "solidity": 0.2
             }
            },
            "type": "bar"
           }
          ],
          "barpolar": [
           {
            "marker": {
             "line": {
              "color": "#E5ECF6",
              "width": 0.5
             },
             "pattern": {
              "fillmode": "overlay",
              "size": 10,
              "solidity": 0.2
             }
            },
            "type": "barpolar"
           }
          ],
          "carpet": [
           {
            "aaxis": {
             "endlinecolor": "#2a3f5f",
             "gridcolor": "white",
             "linecolor": "white",
             "minorgridcolor": "white",
             "startlinecolor": "#2a3f5f"
            },
            "baxis": {
             "endlinecolor": "#2a3f5f",
             "gridcolor": "white",
             "linecolor": "white",
             "minorgridcolor": "white",
             "startlinecolor": "#2a3f5f"
            },
            "type": "carpet"
           }
          ],
          "choropleth": [
           {
            "colorbar": {
             "outlinewidth": 0,
             "ticks": ""
            },
            "type": "choropleth"
           }
          ],
          "contour": [
           {
            "colorbar": {
             "outlinewidth": 0,
             "ticks": ""
            },
            "colorscale": [
             [
              0,
              "#0d0887"
             ],
             [
              0.1111111111111111,
              "#46039f"
             ],
             [
              0.2222222222222222,
              "#7201a8"
             ],
             [
              0.3333333333333333,
              "#9c179e"
             ],
             [
              0.4444444444444444,
              "#bd3786"
             ],
             [
              0.5555555555555556,
              "#d8576b"
             ],
             [
              0.6666666666666666,
              "#ed7953"
             ],
             [
              0.7777777777777778,
              "#fb9f3a"
             ],
             [
              0.8888888888888888,
              "#fdca26"
             ],
             [
              1,
              "#f0f921"
             ]
            ],
            "type": "contour"
           }
          ],
          "contourcarpet": [
           {
            "colorbar": {
             "outlinewidth": 0,
             "ticks": ""
            },
            "type": "contourcarpet"
           }
          ],
          "heatmap": [
           {
            "colorbar": {
             "outlinewidth": 0,
             "ticks": ""
            },
            "colorscale": [
             [
              0,
              "#0d0887"
             ],
             [
              0.1111111111111111,
              "#46039f"
             ],
             [
              0.2222222222222222,
              "#7201a8"
             ],
             [
              0.3333333333333333,
              "#9c179e"
             ],
             [
              0.4444444444444444,
              "#bd3786"
             ],
             [
              0.5555555555555556,
              "#d8576b"
             ],
             [
              0.6666666666666666,
              "#ed7953"
             ],
             [
              0.7777777777777778,
              "#fb9f3a"
             ],
             [
              0.8888888888888888,
              "#fdca26"
             ],
             [
              1,
              "#f0f921"
             ]
            ],
            "type": "heatmap"
           }
          ],
          "heatmapgl": [
           {
            "colorbar": {
             "outlinewidth": 0,
             "ticks": ""
            },
            "colorscale": [
             [
              0,
              "#0d0887"
             ],
             [
              0.1111111111111111,
              "#46039f"
             ],
             [
              0.2222222222222222,
              "#7201a8"
             ],
             [
              0.3333333333333333,
              "#9c179e"
             ],
             [
              0.4444444444444444,
              "#bd3786"
             ],
             [
              0.5555555555555556,
              "#d8576b"
             ],
             [
              0.6666666666666666,
              "#ed7953"
             ],
             [
              0.7777777777777778,
              "#fb9f3a"
             ],
             [
              0.8888888888888888,
              "#fdca26"
             ],
             [
              1,
              "#f0f921"
             ]
            ],
            "type": "heatmapgl"
           }
          ],
          "histogram": [
           {
            "marker": {
             "pattern": {
              "fillmode": "overlay",
              "size": 10,
              "solidity": 0.2
             }
            },
            "type": "histogram"
           }
          ],
          "histogram2d": [
           {
            "colorbar": {
             "outlinewidth": 0,
             "ticks": ""
            },
            "colorscale": [
             [
              0,
              "#0d0887"
             ],
             [
              0.1111111111111111,
              "#46039f"
             ],
             [
              0.2222222222222222,
              "#7201a8"
             ],
             [
              0.3333333333333333,
              "#9c179e"
             ],
             [
              0.4444444444444444,
              "#bd3786"
             ],
             [
              0.5555555555555556,
              "#d8576b"
             ],
             [
              0.6666666666666666,
              "#ed7953"
             ],
             [
              0.7777777777777778,
              "#fb9f3a"
             ],
             [
              0.8888888888888888,
              "#fdca26"
             ],
             [
              1,
              "#f0f921"
             ]
            ],
            "type": "histogram2d"
           }
          ],
          "histogram2dcontour": [
           {
            "colorbar": {
             "outlinewidth": 0,
             "ticks": ""
            },
            "colorscale": [
             [
              0,
              "#0d0887"
             ],
             [
              0.1111111111111111,
              "#46039f"
             ],
             [
              0.2222222222222222,
              "#7201a8"
             ],
             [
              0.3333333333333333,
              "#9c179e"
             ],
             [
              0.4444444444444444,
              "#bd3786"
             ],
             [
              0.5555555555555556,
              "#d8576b"
             ],
             [
              0.6666666666666666,
              "#ed7953"
             ],
             [
              0.7777777777777778,
              "#fb9f3a"
             ],
             [
              0.8888888888888888,
              "#fdca26"
             ],
             [
              1,
              "#f0f921"
             ]
            ],
            "type": "histogram2dcontour"
           }
          ],
          "mesh3d": [
           {
            "colorbar": {
             "outlinewidth": 0,
             "ticks": ""
            },
            "type": "mesh3d"
           }
          ],
          "parcoords": [
           {
            "line": {
             "colorbar": {
              "outlinewidth": 0,
              "ticks": ""
             }
            },
            "type": "parcoords"
           }
          ],
          "pie": [
           {
            "automargin": true,
            "type": "pie"
           }
          ],
          "scatter": [
           {
            "fillpattern": {
             "fillmode": "overlay",
             "size": 10,
             "solidity": 0.2
            },
            "type": "scatter"
           }
          ],
          "scatter3d": [
           {
            "line": {
             "colorbar": {
              "outlinewidth": 0,
              "ticks": ""
             }
            },
            "marker": {
             "colorbar": {
              "outlinewidth": 0,
              "ticks": ""
             }
            },
            "type": "scatter3d"
           }
          ],
          "scattercarpet": [
           {
            "marker": {
             "colorbar": {
              "outlinewidth": 0,
              "ticks": ""
             }
            },
            "type": "scattercarpet"
           }
          ],
          "scattergeo": [
           {
            "marker": {
             "colorbar": {
              "outlinewidth": 0,
              "ticks": ""
             }
            },
            "type": "scattergeo"
           }
          ],
          "scattergl": [
           {
            "marker": {
             "colorbar": {
              "outlinewidth": 0,
              "ticks": ""
             }
            },
            "type": "scattergl"
           }
          ],
          "scattermapbox": [
           {
            "marker": {
             "colorbar": {
              "outlinewidth": 0,
              "ticks": ""
             }
            },
            "type": "scattermapbox"
           }
          ],
          "scatterpolar": [
           {
            "marker": {
             "colorbar": {
              "outlinewidth": 0,
              "ticks": ""
             }
            },
            "type": "scatterpolar"
           }
          ],
          "scatterpolargl": [
           {
            "marker": {
             "colorbar": {
              "outlinewidth": 0,
              "ticks": ""
             }
            },
            "type": "scatterpolargl"
           }
          ],
          "scatterternary": [
           {
            "marker": {
             "colorbar": {
              "outlinewidth": 0,
              "ticks": ""
             }
            },
            "type": "scatterternary"
           }
          ],
          "surface": [
           {
            "colorbar": {
             "outlinewidth": 0,
             "ticks": ""
            },
            "colorscale": [
             [
              0,
              "#0d0887"
             ],
             [
              0.1111111111111111,
              "#46039f"
             ],
             [
              0.2222222222222222,
              "#7201a8"
             ],
             [
              0.3333333333333333,
              "#9c179e"
             ],
             [
              0.4444444444444444,
              "#bd3786"
             ],
             [
              0.5555555555555556,
              "#d8576b"
             ],
             [
              0.6666666666666666,
              "#ed7953"
             ],
             [
              0.7777777777777778,
              "#fb9f3a"
             ],
             [
              0.8888888888888888,
              "#fdca26"
             ],
             [
              1,
              "#f0f921"
             ]
            ],
            "type": "surface"
           }
          ],
          "table": [
           {
            "cells": {
             "fill": {
              "color": "#EBF0F8"
             },
             "line": {
              "color": "white"
             }
            },
            "header": {
             "fill": {
              "color": "#C8D4E3"
             },
             "line": {
              "color": "white"
             }
            },
            "type": "table"
           }
          ]
         },
         "layout": {
          "annotationdefaults": {
           "arrowcolor": "#2a3f5f",
           "arrowhead": 0,
           "arrowwidth": 1
          },
          "autotypenumbers": "strict",
          "coloraxis": {
           "colorbar": {
            "outlinewidth": 0,
            "ticks": ""
           }
          },
          "colorscale": {
           "diverging": [
            [
             0,
             "#8e0152"
            ],
            [
             0.1,
             "#c51b7d"
            ],
            [
             0.2,
             "#de77ae"
            ],
            [
             0.3,
             "#f1b6da"
            ],
            [
             0.4,
             "#fde0ef"
            ],
            [
             0.5,
             "#f7f7f7"
            ],
            [
             0.6,
             "#e6f5d0"
            ],
            [
             0.7,
             "#b8e186"
            ],
            [
             0.8,
             "#7fbc41"
            ],
            [
             0.9,
             "#4d9221"
            ],
            [
             1,
             "#276419"
            ]
           ],
           "sequential": [
            [
             0,
             "#0d0887"
            ],
            [
             0.1111111111111111,
             "#46039f"
            ],
            [
             0.2222222222222222,
             "#7201a8"
            ],
            [
             0.3333333333333333,
             "#9c179e"
            ],
            [
             0.4444444444444444,
             "#bd3786"
            ],
            [
             0.5555555555555556,
             "#d8576b"
            ],
            [
             0.6666666666666666,
             "#ed7953"
            ],
            [
             0.7777777777777778,
             "#fb9f3a"
            ],
            [
             0.8888888888888888,
             "#fdca26"
            ],
            [
             1,
             "#f0f921"
            ]
           ],
           "sequentialminus": [
            [
             0,
             "#0d0887"
            ],
            [
             0.1111111111111111,
             "#46039f"
            ],
            [
             0.2222222222222222,
             "#7201a8"
            ],
            [
             0.3333333333333333,
             "#9c179e"
            ],
            [
             0.4444444444444444,
             "#bd3786"
            ],
            [
             0.5555555555555556,
             "#d8576b"
            ],
            [
             0.6666666666666666,
             "#ed7953"
            ],
            [
             0.7777777777777778,
             "#fb9f3a"
            ],
            [
             0.8888888888888888,
             "#fdca26"
            ],
            [
             1,
             "#f0f921"
            ]
           ]
          },
          "colorway": [
           "#636efa",
           "#EF553B",
           "#00cc96",
           "#ab63fa",
           "#FFA15A",
           "#19d3f3",
           "#FF6692",
           "#B6E880",
           "#FF97FF",
           "#FECB52"
          ],
          "font": {
           "color": "#2a3f5f"
          },
          "geo": {
           "bgcolor": "white",
           "lakecolor": "white",
           "landcolor": "#E5ECF6",
           "showlakes": true,
           "showland": true,
           "subunitcolor": "white"
          },
          "hoverlabel": {
           "align": "left"
          },
          "hovermode": "closest",
          "mapbox": {
           "style": "light"
          },
          "paper_bgcolor": "white",
          "plot_bgcolor": "#E5ECF6",
          "polar": {
           "angularaxis": {
            "gridcolor": "white",
            "linecolor": "white",
            "ticks": ""
           },
           "bgcolor": "#E5ECF6",
           "radialaxis": {
            "gridcolor": "white",
            "linecolor": "white",
            "ticks": ""
           }
          },
          "scene": {
           "xaxis": {
            "backgroundcolor": "#E5ECF6",
            "gridcolor": "white",
            "gridwidth": 2,
            "linecolor": "white",
            "showbackground": true,
            "ticks": "",
            "zerolinecolor": "white"
           },
           "yaxis": {
            "backgroundcolor": "#E5ECF6",
            "gridcolor": "white",
            "gridwidth": 2,
            "linecolor": "white",
            "showbackground": true,
            "ticks": "",
            "zerolinecolor": "white"
           },
           "zaxis": {
            "backgroundcolor": "#E5ECF6",
            "gridcolor": "white",
            "gridwidth": 2,
            "linecolor": "white",
            "showbackground": true,
            "ticks": "",
            "zerolinecolor": "white"
           }
          },
          "shapedefaults": {
           "line": {
            "color": "#2a3f5f"
           }
          },
          "ternary": {
           "aaxis": {
            "gridcolor": "white",
            "linecolor": "white",
            "ticks": ""
           },
           "baxis": {
            "gridcolor": "white",
            "linecolor": "white",
            "ticks": ""
           },
           "bgcolor": "#E5ECF6",
           "caxis": {
            "gridcolor": "white",
            "linecolor": "white",
            "ticks": ""
           }
          },
          "title": {
           "x": 0.05
          },
          "xaxis": {
           "automargin": true,
           "gridcolor": "white",
           "linecolor": "white",
           "ticks": "",
           "title": {
            "standoff": 15
           },
           "zerolinecolor": "white",
           "zerolinewidth": 2
          },
          "yaxis": {
           "automargin": true,
           "gridcolor": "white",
           "linecolor": "white",
           "ticks": "",
           "title": {
            "standoff": 15
           },
           "zerolinecolor": "white",
           "zerolinewidth": 2
          }
         }
        },
        "title": {
         "text": "Total de diferencia Salarial por Año H VS M"
        },
        "xaxis": {
         "anchor": "y",
         "domain": [
          0,
          1
         ],
         "title": {
          "text": "año"
         }
        },
        "yaxis": {
         "anchor": "x",
         "domain": [
          0,
          1
         ],
         "title": {
          "text": "totalSalarial"
         }
        }
       }
      }
     },
     "metadata": {},
     "output_type": "display_data"
    }
   ],
   "source": [
    "import pandas as pd\n",
    "import plotly.express as px\n",
    "\n",
    "\n",
    "# Gráfico de horas por año (línea)\n",
    "fig = px.line(data_frame=resumenHoras, x=\"año\", y=\"totalHoras\", title=\"Total de diferencia de Horas por Año H VS M\")\n",
    "fig.show()\n",
    "\n",
    "# Gráfico de salario por año (línea)\n",
    "fig = px.line(data_frame=resumenSalarial, x=\"año\", y=\"totalSalarial\", title=\"Total de diferencia Salarial por Año H VS M\")\n",
    "fig.show()\n"
   ]
  },
  {
   "cell_type": "code",
   "execution_count": null,
   "metadata": {},
   "outputs": [],
   "source": []
  }
 ],
 "metadata": {
  "kernelspec": {
   "display_name": "Python 3",
   "language": "python",
   "name": "python3"
  },
  "language_info": {
   "codemirror_mode": {
    "name": "ipython",
    "version": 3
   },
   "file_extension": ".py",
   "mimetype": "text/x-python",
   "name": "python",
   "nbconvert_exporter": "python",
   "pygments_lexer": "ipython3",
   "version": "3.12.2"
  }
 },
 "nbformat": 4,
 "nbformat_minor": 2
}
